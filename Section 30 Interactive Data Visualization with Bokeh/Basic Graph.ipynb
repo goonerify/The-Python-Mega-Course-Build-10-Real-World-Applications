{
 "cells": [
  {
   "cell_type": "code",
   "execution_count": 21,
   "id": "afa5aab3",
   "metadata": {},
   "outputs": [],
   "source": [
    "from bokeh.plotting import figure\n",
    "from bokeh.io import output_file, show\n",
    "import pandas"
   ]
  },
  {
   "cell_type": "markdown",
   "id": "e6096cd8",
   "metadata": {},
   "source": [
    "### Basic Bokeh line graph"
   ]
  },
  {
   "cell_type": "code",
   "execution_count": 18,
   "id": "4dcf2ca2",
   "metadata": {},
   "outputs": [],
   "source": [
    "# Prepare some data\n",
    "x=[1,2,3,4,5]\n",
    "y=[6,7,8,9,10]\n",
    "\n",
    "# Prepare the output file\n",
    "output_file(\"Line.html\")\n",
    "\n",
    "# Create a figure object\n",
    "f=figure()\n",
    "\n",
    "# Create line plot\n",
    "f.line(x, y)\n",
    "\n",
    "# Display the plot\n",
    "show(f)"
   ]
  },
  {
   "cell_type": "markdown",
   "id": "aecab5c8",
   "metadata": {},
   "source": [
    "### Triangle-based line graph"
   ]
  },
  {
   "cell_type": "code",
   "execution_count": 14,
   "id": "4f564ca3",
   "metadata": {},
   "outputs": [],
   "source": [
    "# prepare some data\n",
    "x=[3,7.5,10]\n",
    "y=[3,6,9]\n",
    " \n",
    "#prepare the output file\n",
    "output_file(\"Line-Triangle.html\")\n",
    " \n",
    "#create a figure object\n",
    "f=figure()\n",
    " \n",
    "#create line plot\n",
    "f.triangle(x,y)\n",
    " \n",
    "#write the plot in the figure object\n",
    "show(f)"
   ]
  },
  {
   "cell_type": "markdown",
   "id": "7e144109",
   "metadata": {},
   "source": [
    "### Circle-based line graph"
   ]
  },
  {
   "cell_type": "code",
   "execution_count": 15,
   "id": "64040a00",
   "metadata": {},
   "outputs": [],
   "source": [
    "# prepare some data\n",
    "x=[3,7.5,10]\n",
    "y=[3,6,9]\n",
    " \n",
    "#prepare the output file\n",
    "output_file(\"Line-Circle.html\")\n",
    " \n",
    "#create a figure object\n",
    "f=figure()\n",
    " \n",
    "#create line plot\n",
    "f.circle(x,y)\n",
    " \n",
    "#write the plot in the figure object\n",
    "show(f)"
   ]
  },
  {
   "cell_type": "markdown",
   "id": "d049c117",
   "metadata": {},
   "source": [
    "### Line from CSV"
   ]
  },
  {
   "cell_type": "code",
   "execution_count": 22,
   "id": "1f646fd7",
   "metadata": {},
   "outputs": [],
   "source": [
    "# Prepare some data\n",
    "df = pandas.read_csv(\"data.csv\")\n",
    "x=df['x']\n",
    "y=df['y']\n",
    "\n",
    "# Prepare the output file\n",
    "output_file(\"Line_from_csv.html\")\n",
    "\n",
    "# Create a figure object\n",
    "f=figure()\n",
    "\n",
    "# Create line plot\n",
    "f.line(x, y)\n",
    "\n",
    "# Display the plot\n",
    "show(f)"
   ]
  },
  {
   "cell_type": "code",
   "execution_count": null,
   "id": "5d34a4f3",
   "metadata": {},
   "outputs": [],
   "source": []
  }
 ],
 "metadata": {
  "kernelspec": {
   "display_name": "venv.section-30",
   "language": "python",
   "name": "venv.section-30"
  },
  "language_info": {
   "codemirror_mode": {
    "name": "ipython",
    "version": 3
   },
   "file_extension": ".py",
   "mimetype": "text/x-python",
   "name": "python",
   "nbconvert_exporter": "python",
   "pygments_lexer": "ipython3",
   "version": "3.9.1"
  }
 },
 "nbformat": 4,
 "nbformat_minor": 5
}
