{
 "cells": [
  {
   "cell_type": "code",
   "execution_count": 9,
   "id": "4dcf2ca2",
   "metadata": {},
   "outputs": [
    {
     "name": "stderr",
     "output_type": "stream",
     "text": [
      "WARNING:bokeh.core.validation.check:W-1000 (MISSING_RENDERERS): Plot has no renderers: Figure(id='1323', ...)\n"
     ]
    }
   ],
   "source": [
    "# Basic Bokeh line graph\n",
    "\n",
    "from bokeh.plotting import figure\n",
    "from bokeh.io import output_file, show\n",
    "\n",
    "# Prepare some data\n",
    "x=[1,2,3,4,5]\n",
    "y=[6,7,8,9,10]\n",
    "\n",
    "# Prepare the output file\n",
    "output_file(\"Line.html\")\n",
    "\n",
    "# Create a figure object\n",
    "f=figure()\n",
    "\n",
    "# Create line plot\n",
    "f.line(x, y)\n",
    "\n",
    "# Display the plot\n",
    "show(f)"
   ]
  },
  {
   "cell_type": "code",
   "execution_count": 10,
   "id": "5a006ed6",
   "metadata": {},
   "outputs": [],
   "source": []
  },
  {
   "cell_type": "code",
   "execution_count": null,
   "id": "9185eb72",
   "metadata": {},
   "outputs": [],
   "source": []
  }
 ],
 "metadata": {
  "kernelspec": {
   "display_name": "venv.section-30",
   "language": "python",
   "name": "venv.section-30"
  },
  "language_info": {
   "codemirror_mode": {
    "name": "ipython",
    "version": 3
   },
   "file_extension": ".py",
   "mimetype": "text/x-python",
   "name": "python",
   "nbconvert_exporter": "python",
   "pygments_lexer": "ipython3",
   "version": "3.9.1"
  }
 },
 "nbformat": 4,
 "nbformat_minor": 5
}
