{
 "cells": [
  {
   "cell_type": "code",
   "execution_count": 29,
   "id": "7ab1f29c",
   "metadata": {},
   "outputs": [],
   "source": [
    "from bokeh.plotting import figure\n",
    "from bokeh.io import output_file, show\n",
    "import pandas"
   ]
  },
  {
   "cell_type": "markdown",
   "id": "f5f723a0",
   "metadata": {},
   "source": [
    "### Basic Bokeh line graph"
   ]
  },
  {
   "cell_type": "code",
   "execution_count": 18,
   "id": "4dcf2ca2",
   "metadata": {},
   "outputs": [],
   "source": [
    "# Prepare some data\n",
    "x=[1,2,3,4,5]\n",
    "y=[6,7,8,9,10]\n",
    "\n",
    "# Prepare the output file\n",
    "output_file(\"Line.html\")\n",
    "\n",
    "# Create a figure object\n",
    "f=figure()\n",
    "\n",
    "# Create line plot\n",
    "f.line(x, y)\n",
    "\n",
    "# Display the plot\n",
    "show(f)"
   ]
  },
  {
   "cell_type": "markdown",
   "id": "ef93cc3c",
   "metadata": {},
   "source": [
    "### Triangle-based line graph"
   ]
  },
  {
   "cell_type": "code",
   "execution_count": 14,
   "id": "2a032f7d",
   "metadata": {},
   "outputs": [],
   "source": [
    "# prepare some data\n",
    "x=[3,7.5,10]\n",
    "y=[3,6,9]\n",
    " \n",
    "#prepare the output file\n",
    "output_file(\"Line-Triangle.html\")\n",
    " \n",
    "#create a figure object\n",
    "f=figure()\n",
    " \n",
    "#create line plot\n",
    "f.triangle(x,y)\n",
    " \n",
    "#write the plot in the figure object\n",
    "show(f)"
   ]
  },
  {
   "cell_type": "markdown",
   "id": "be739192",
   "metadata": {},
   "source": [
    "### Circle-based line graph"
   ]
  },
  {
   "cell_type": "code",
   "execution_count": 15,
   "id": "b24efbd3",
   "metadata": {},
   "outputs": [],
   "source": [
    "# prepare some data\n",
    "x=[3,7.5,10]\n",
    "y=[3,6,9]\n",
    " \n",
    "#prepare the output file\n",
    "output_file(\"Line-Circle.html\")\n",
    " \n",
    "#create a figure object\n",
    "f=figure()\n",
    " \n",
    "#create line plot\n",
    "f.circle(x,y)\n",
    " \n",
    "#write the plot in the figure object\n",
    "show(f)"
   ]
  },
  {
   "cell_type": "markdown",
   "id": "0858db5e",
   "metadata": {},
   "source": [
    "### Line from CSV"
   ]
  },
  {
   "cell_type": "code",
   "execution_count": 22,
   "id": "634fae5f",
   "metadata": {},
   "outputs": [],
   "source": [
    "# Prepare some data\n",
    "df = pandas.read_csv(\"data.csv\")\n",
    "x=df['x']\n",
    "y=df['y']\n",
    "\n",
    "# Prepare the output file\n",
    "output_file(\"Line_from_csv.html\")\n",
    "\n",
    "# Create a figure object\n",
    "f=figure()\n",
    "\n",
    "# Create line plot\n",
    "f.line(x, y)\n",
    "\n",
    "# Display the plot\n",
    "show(f)"
   ]
  },
  {
   "cell_type": "markdown",
   "id": "1ed1f4a3",
   "metadata": {},
   "source": [
    "### Bachelor's Degree"
   ]
  },
  {
   "cell_type": "code",
   "execution_count": 26,
   "id": "3e66a465",
   "metadata": {},
   "outputs": [],
   "source": [
    "df=pandas.read_csv(\"bachelors.csv\")\n",
    "x=df['Year']\n",
    "y=df['Engineering']\n",
    "\n",
    "# Prepare the output file\n",
    "output_file(\"Bachelors_line_from_csv.html\")\n",
    "\n",
    "# Create a figure object\n",
    "f=figure()\n",
    "\n",
    "# Create line plot\n",
    "f.line(x, y)\n",
    "\n",
    "# Display the plot\n",
    "show(f)"
   ]
  },
  {
   "cell_type": "markdown",
   "id": "8ce95a01",
   "metadata": {},
   "source": [
    "### 258. Plot Properties"
   ]
  },
  {
   "cell_type": "code",
   "execution_count": 32,
   "id": "75562faf",
   "metadata": {},
   "outputs": [],
   "source": [
    "p=figure(plot_width=500,plot_height=400, tools='pan')\n",
    " \n",
    "p.title.text=\"Cool Data\"\n",
    "p.title.text_color=\"Gray\"\n",
    "p.title.text_font=\"times\"\n",
    "p.title.text_font_style=\"bold\"\n",
    "p.xaxis.minor_tick_line_color=None\n",
    "p.yaxis.minor_tick_line_color=None\n",
    "p.xaxis.axis_label=\"Date\"\n",
    "p.yaxis.axis_label=\"Intensity\"    \n",
    " \n",
    "p.line([1,2,3],[4,5,6])\n",
    "output_file(\"graph.html\")\n",
    "show(p)"
   ]
  },
  {
   "cell_type": "markdown",
   "id": "aecd9fbf",
   "metadata": {},
   "source": [
    "### 259. Plotting Weather Data (Practice)"
   ]
  },
  {
   "cell_type": "code",
   "execution_count": 49,
   "id": "097abaa8",
   "metadata": {},
   "outputs": [],
   "source": [
    "df=pandas.read_excel(\"verlegenhuken.xlsx\")\n",
    "x=df['Temperature'].div(10)\n",
    "y=df['Pressure'].div(10)\n",
    "\n",
    "# Prepare the output file\n",
    "output_file(\"Weather_Data.html\")\n",
    "\n",
    "# Create a figure object\n",
    "f=figure(plot_width=500,plot_height=400, tools='pan')\n",
    "f.title.text=\"Temperature and Air Pressure\"\n",
    "f.title.text_color=\"Gray\"\n",
    "f.title.text_font=\"arial\"\n",
    "f.title.text_font_style=\"bold\"\n",
    "f.xaxis.minor_tick_line_color=\"Yellow\"\n",
    "f.yaxis.minor_tick_line_color=None\n",
    "f.xaxis.axis_label=\"Temperature (°C)\"\n",
    "f.yaxis.axis_label=\"Pressure (hPa)\" \n",
    "\n",
    "# Create line plot\n",
    "f.circle(x, y, size=0.5)\n",
    "\n",
    "# Display the plot\n",
    "show(f)"
   ]
  },
  {
   "cell_type": "markdown",
   "id": "df90c281",
   "metadata": {},
   "source": [
    "### Adobe Stock"
   ]
  },
  {
   "cell_type": "code",
   "execution_count": 57,
   "id": "d939652a",
   "metadata": {},
   "outputs": [],
   "source": [
    "df=pandas.read_csv(\"adbe.csv\", parse_dates=[\"Date\"])\n",
    "p=figure(width=500,height=250,x_axis_type=\"datetime\")\n",
    "# p.responsive=True # Deprecated. Use sizing_model instead\n",
    "p.sizing_mode='scale_width'\n",
    "p.line(df[\"Date\"], df[\"Close\"], color=\"Orange\", alpha=0.5)\n",
    "output_file(\"Timeseries.html\")\n",
    "show(p)"
   ]
  },
  {
   "cell_type": "code",
   "execution_count": null,
   "id": "54652b8a",
   "metadata": {},
   "outputs": [],
   "source": []
  }
 ],
 "metadata": {
  "kernelspec": {
   "display_name": "venv.section-30",
   "language": "python",
   "name": "venv.section-30"
  },
  "language_info": {
   "codemirror_mode": {
    "name": "ipython",
    "version": 3
   },
   "file_extension": ".py",
   "mimetype": "text/x-python",
   "name": "python",
   "nbconvert_exporter": "python",
   "pygments_lexer": "ipython3",
   "version": "3.9.1"
  }
 },
 "nbformat": 4,
 "nbformat_minor": 5
}
