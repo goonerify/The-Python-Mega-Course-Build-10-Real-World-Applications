{
 "cells": [
  {
   "cell_type": "code",
   "execution_count": 1,
   "id": "cellular-cuisine",
   "metadata": {},
   "outputs": [],
   "source": [
    "import numpy\n",
    "import cv2 "
   ]
  },
  {
   "cell_type": "markdown",
   "id": "8bb30206",
   "metadata": {},
   "source": [
    "### 126. What is Numpy?"
   ]
  },
  {
   "cell_type": "code",
   "execution_count": 4,
   "id": "vanilla-inflation",
   "metadata": {},
   "outputs": [
    {
     "data": {
      "text/plain": [
       "array([ 0,  1,  2,  3,  4,  5,  6,  7,  8,  9, 10, 11, 12, 13, 14, 15, 16,\n",
       "       17, 18, 19, 20, 21, 22, 23, 24, 25, 26])"
      ]
     },
     "execution_count": 4,
     "metadata": {},
     "output_type": "execute_result"
    }
   ],
   "source": [
    "n = numpy.arange(27)\n",
    "n"
   ]
  },
  {
   "cell_type": "code",
   "execution_count": 5,
   "id": "indonesian-compilation",
   "metadata": {},
   "outputs": [
    {
     "data": {
      "text/plain": [
       "array([[ 0,  1,  2,  3,  4,  5,  6,  7,  8],\n",
       "       [ 9, 10, 11, 12, 13, 14, 15, 16, 17],\n",
       "       [18, 19, 20, 21, 22, 23, 24, 25, 26]])"
      ]
     },
     "execution_count": 5,
     "metadata": {},
     "output_type": "execute_result"
    }
   ],
   "source": [
    "n.reshape(3, 9)"
   ]
  },
  {
   "cell_type": "code",
   "execution_count": 6,
   "id": "determined-singles",
   "metadata": {},
   "outputs": [
    {
     "data": {
      "text/plain": [
       "array([[[ 0,  1,  2],\n",
       "        [ 3,  4,  5],\n",
       "        [ 6,  7,  8]],\n",
       "\n",
       "       [[ 9, 10, 11],\n",
       "        [12, 13, 14],\n",
       "        [15, 16, 17]],\n",
       "\n",
       "       [[18, 19, 20],\n",
       "        [21, 22, 23],\n",
       "        [24, 25, 26]]])"
      ]
     },
     "execution_count": 6,
     "metadata": {},
     "output_type": "execute_result"
    }
   ],
   "source": [
    "n.reshape(3,3,3)"
   ]
  },
  {
   "cell_type": "code",
   "execution_count": 11,
   "id": "warming-movement",
   "metadata": {},
   "outputs": [],
   "source": [
    "a=[123, 12, 111, 45, 99]\n",
    "n=numpy.asarray(a)"
   ]
  },
  {
   "cell_type": "code",
   "execution_count": 12,
   "id": "stylish-antigua",
   "metadata": {},
   "outputs": [
    {
     "data": {
      "text/plain": [
       "array([123,  12, 111,  45,  99])"
      ]
     },
     "execution_count": 12,
     "metadata": {},
     "output_type": "execute_result"
    }
   ],
   "source": [
    "n"
   ]
  },
  {
   "cell_type": "code",
   "execution_count": 13,
   "id": "third-lesson",
   "metadata": {},
   "outputs": [
    {
     "data": {
      "text/plain": [
       "list"
      ]
     },
     "execution_count": 13,
     "metadata": {},
     "output_type": "execute_result"
    }
   ],
   "source": [
    "type(a)"
   ]
  },
  {
   "cell_type": "code",
   "execution_count": 14,
   "id": "funky-twins",
   "metadata": {},
   "outputs": [
    {
     "data": {
      "text/plain": [
       "numpy.ndarray"
      ]
     },
     "execution_count": 14,
     "metadata": {},
     "output_type": "execute_result"
    }
   ],
   "source": [
    "type(n)"
   ]
  },
  {
   "cell_type": "markdown",
   "id": "e149e084",
   "metadata": {},
   "source": [
    "### 128. Convert Images to Numpy Arrays"
   ]
  },
  {
   "cell_type": "code",
   "execution_count": 11,
   "id": "5132dd81",
   "metadata": {},
   "outputs": [
    {
     "data": {
      "text/plain": [
       "array([[187, 158, 104, 121, 143],\n",
       "       [198, 125, 255, 255, 147],\n",
       "       [209, 134, 255,  97, 182]], dtype=uint8)"
      ]
     },
     "execution_count": 11,
     "metadata": {},
     "output_type": "execute_result"
    }
   ],
   "source": [
    "# load an image from a file. Flag: 0 for greyscale, 1 for BGR (Blue, Green, Red) (not RGB!!)\n",
    "im_grey=cv2.imread('smallgray.png', 0)\n",
    "im_grey"
   ]
  },
  {
   "cell_type": "code",
   "execution_count": 5,
   "id": "d40b369f",
   "metadata": {},
   "outputs": [
    {
     "data": {
      "text/plain": [
       "array([[[187, 187, 187],\n",
       "        [158, 158, 158],\n",
       "        [104, 104, 104],\n",
       "        [121, 121, 121],\n",
       "        [143, 143, 143]],\n",
       "\n",
       "       [[198, 198, 198],\n",
       "        [125, 125, 125],\n",
       "        [255, 255, 255],\n",
       "        [255, 255, 255],\n",
       "        [147, 147, 147]],\n",
       "\n",
       "       [[209, 209, 209],\n",
       "        [134, 134, 134],\n",
       "        [255, 255, 255],\n",
       "        [ 97,  97,  97],\n",
       "        [182, 182, 182]]], dtype=uint8)"
      ]
     },
     "execution_count": 5,
     "metadata": {},
     "output_type": "execute_result"
    }
   ],
   "source": [
    "im_grb=cv2.imread('smallgray.png', 1)\n",
    "im_grb"
   ]
  },
  {
   "cell_type": "code",
   "execution_count": 12,
   "id": "15883b87",
   "metadata": {},
   "outputs": [
    {
     "data": {
      "text/plain": [
       "True"
      ]
     },
     "execution_count": 12,
     "metadata": {},
     "output_type": "execute_result"
    }
   ],
   "source": [
    "cv2.imwrite('newsmallgrey.png', im_grey)"
   ]
  },
  {
   "cell_type": "markdown",
   "id": "6db51f18",
   "metadata": {},
   "source": [
    "### 129. Indexing, Slicing, and Iterating Numpy Arrays"
   ]
  },
  {
   "cell_type": "code",
   "execution_count": 15,
   "id": "de265728",
   "metadata": {},
   "outputs": [],
   "source": [
    "# Select the items in the third and fourth colums of the first and second rows\n",
    "sel = im_grey[0:2,2:4]"
   ]
  },
  {
   "cell_type": "code",
   "execution_count": 17,
   "id": "d060075a",
   "metadata": {},
   "outputs": [
    {
     "data": {
      "text/plain": [
       "(2, 2)"
      ]
     },
     "execution_count": 17,
     "metadata": {},
     "output_type": "execute_result"
    }
   ],
   "source": [
    "sel.shape"
   ]
  },
  {
   "cell_type": "code",
   "execution_count": 18,
   "id": "0ced0cf8",
   "metadata": {},
   "outputs": [
    {
     "data": {
      "text/plain": [
       "182"
      ]
     },
     "execution_count": 18,
     "metadata": {},
     "output_type": "execute_result"
    }
   ],
   "source": [
    "im_grey[2,4]"
   ]
  },
  {
   "cell_type": "markdown",
   "id": "3053d878",
   "metadata": {},
   "source": [
    "#### Iterating numpy arrays"
   ]
  },
  {
   "cell_type": "code",
   "execution_count": 19,
   "id": "7f83fb14",
   "metadata": {},
   "outputs": [
    {
     "name": "stdout",
     "output_type": "stream",
     "text": [
      "[187 158 104 121 143]\n",
      "[198 125 255 255 147]\n",
      "[209 134 255  97 182]\n"
     ]
    }
   ],
   "source": [
    "# print each row in numpy array\n",
    "for i in im_grey:\n",
    "    print(i)"
   ]
  },
  {
   "cell_type": "code",
   "execution_count": 20,
   "id": "1fadf69a",
   "metadata": {},
   "outputs": [
    {
     "name": "stdout",
     "output_type": "stream",
     "text": [
      "[187 198 209]\n",
      "[158 125 134]\n",
      "[104 255 255]\n",
      "[121 255  97]\n",
      "[143 147 182]\n"
     ]
    }
   ],
   "source": [
    "# print each column in numpy array\n",
    "for i in im_grey.T:\n",
    "    print(i)"
   ]
  },
  {
   "cell_type": "code",
   "execution_count": 24,
   "id": "2c260412",
   "metadata": {},
   "outputs": [
    {
     "name": "stdout",
     "output_type": "stream",
     "text": [
      "187\n",
      "158\n",
      "104\n",
      "121\n",
      "143\n",
      "198\n",
      "125\n",
      "255\n",
      "255\n",
      "147\n",
      "209\n",
      "134\n",
      "255\n",
      "97\n",
      "182\n"
     ]
    }
   ],
   "source": [
    "# print each individual value in numpy array\n",
    "for i in im_grey.flat:\n",
    "    print(i)"
   ]
  },
  {
   "cell_type": "code",
   "execution_count": 25,
   "id": "7335d43f",
   "metadata": {},
   "outputs": [
    {
     "data": {
      "text/plain": [
       "['T',\n",
       " '__abs__',\n",
       " '__add__',\n",
       " '__and__',\n",
       " '__array__',\n",
       " '__array_finalize__',\n",
       " '__array_function__',\n",
       " '__array_interface__',\n",
       " '__array_prepare__',\n",
       " '__array_priority__',\n",
       " '__array_struct__',\n",
       " '__array_ufunc__',\n",
       " '__array_wrap__',\n",
       " '__bool__',\n",
       " '__class__',\n",
       " '__complex__',\n",
       " '__contains__',\n",
       " '__copy__',\n",
       " '__deepcopy__',\n",
       " '__delattr__',\n",
       " '__delitem__',\n",
       " '__dir__',\n",
       " '__divmod__',\n",
       " '__doc__',\n",
       " '__eq__',\n",
       " '__float__',\n",
       " '__floordiv__',\n",
       " '__format__',\n",
       " '__ge__',\n",
       " '__getattribute__',\n",
       " '__getitem__',\n",
       " '__gt__',\n",
       " '__hash__',\n",
       " '__iadd__',\n",
       " '__iand__',\n",
       " '__ifloordiv__',\n",
       " '__ilshift__',\n",
       " '__imatmul__',\n",
       " '__imod__',\n",
       " '__imul__',\n",
       " '__index__',\n",
       " '__init__',\n",
       " '__init_subclass__',\n",
       " '__int__',\n",
       " '__invert__',\n",
       " '__ior__',\n",
       " '__ipow__',\n",
       " '__irshift__',\n",
       " '__isub__',\n",
       " '__iter__',\n",
       " '__itruediv__',\n",
       " '__ixor__',\n",
       " '__le__',\n",
       " '__len__',\n",
       " '__lshift__',\n",
       " '__lt__',\n",
       " '__matmul__',\n",
       " '__mod__',\n",
       " '__mul__',\n",
       " '__ne__',\n",
       " '__neg__',\n",
       " '__new__',\n",
       " '__or__',\n",
       " '__pos__',\n",
       " '__pow__',\n",
       " '__radd__',\n",
       " '__rand__',\n",
       " '__rdivmod__',\n",
       " '__reduce__',\n",
       " '__reduce_ex__',\n",
       " '__repr__',\n",
       " '__rfloordiv__',\n",
       " '__rlshift__',\n",
       " '__rmatmul__',\n",
       " '__rmod__',\n",
       " '__rmul__',\n",
       " '__ror__',\n",
       " '__rpow__',\n",
       " '__rrshift__',\n",
       " '__rshift__',\n",
       " '__rsub__',\n",
       " '__rtruediv__',\n",
       " '__rxor__',\n",
       " '__setattr__',\n",
       " '__setitem__',\n",
       " '__setstate__',\n",
       " '__sizeof__',\n",
       " '__str__',\n",
       " '__sub__',\n",
       " '__subclasshook__',\n",
       " '__truediv__',\n",
       " '__xor__',\n",
       " 'all',\n",
       " 'any',\n",
       " 'argmax',\n",
       " 'argmin',\n",
       " 'argpartition',\n",
       " 'argsort',\n",
       " 'astype',\n",
       " 'base',\n",
       " 'byteswap',\n",
       " 'choose',\n",
       " 'clip',\n",
       " 'compress',\n",
       " 'conj',\n",
       " 'conjugate',\n",
       " 'copy',\n",
       " 'ctypes',\n",
       " 'cumprod',\n",
       " 'cumsum',\n",
       " 'data',\n",
       " 'diagonal',\n",
       " 'dot',\n",
       " 'dtype',\n",
       " 'dump',\n",
       " 'dumps',\n",
       " 'fill',\n",
       " 'flags',\n",
       " 'flat',\n",
       " 'flatten',\n",
       " 'getfield',\n",
       " 'imag',\n",
       " 'item',\n",
       " 'itemset',\n",
       " 'itemsize',\n",
       " 'max',\n",
       " 'mean',\n",
       " 'min',\n",
       " 'nbytes',\n",
       " 'ndim',\n",
       " 'newbyteorder',\n",
       " 'nonzero',\n",
       " 'partition',\n",
       " 'prod',\n",
       " 'ptp',\n",
       " 'put',\n",
       " 'ravel',\n",
       " 'real',\n",
       " 'repeat',\n",
       " 'reshape',\n",
       " 'resize',\n",
       " 'round',\n",
       " 'searchsorted',\n",
       " 'setfield',\n",
       " 'setflags',\n",
       " 'shape',\n",
       " 'size',\n",
       " 'sort',\n",
       " 'squeeze',\n",
       " 'std',\n",
       " 'strides',\n",
       " 'sum',\n",
       " 'swapaxes',\n",
       " 'take',\n",
       " 'tobytes',\n",
       " 'tofile',\n",
       " 'tolist',\n",
       " 'tostring',\n",
       " 'trace',\n",
       " 'transpose',\n",
       " 'var',\n",
       " 'view']"
      ]
     },
     "execution_count": 25,
     "metadata": {},
     "output_type": "execute_result"
    }
   ],
   "source": [
    "dir(im_grey)"
   ]
  },
  {
   "cell_type": "markdown",
   "id": "e2324dad",
   "metadata": {},
   "source": [
    "### 130. Stacking (concatenating) and Splitting Numpy Arrays"
   ]
  },
  {
   "cell_type": "code",
   "execution_count": 32,
   "id": "7c99de88",
   "metadata": {},
   "outputs": [
    {
     "name": "stdout",
     "output_type": "stream",
     "text": [
      "[[187 158 104 121 143 187 158 104 121 143 187 158 104 121 143]\n",
      " [198 125 255 255 147 198 125 255 255 147 198 125 255 255 147]\n",
      " [209 134 255  97 182 209 134 255  97 182 209 134 255  97 182]]\n"
     ]
    }
   ],
   "source": [
    "# Concatenate a set of lists horizontally\n",
    "h_ims=numpy.hstack((im_grey, im_grey, im_grey))\n",
    "print(h_ims)"
   ]
  },
  {
   "cell_type": "code",
   "execution_count": 33,
   "id": "94db31bb",
   "metadata": {},
   "outputs": [
    {
     "name": "stdout",
     "output_type": "stream",
     "text": [
      "[[187 158 104 121 143]\n",
      " [198 125 255 255 147]\n",
      " [209 134 255  97 182]\n",
      " [187 158 104 121 143]\n",
      " [198 125 255 255 147]\n",
      " [209 134 255  97 182]\n",
      " [187 158 104 121 143]\n",
      " [198 125 255 255 147]\n",
      " [209 134 255  97 182]]\n"
     ]
    }
   ],
   "source": [
    "# Concatenate a set of lists vertically\n",
    "v_ims=numpy.vstack((im_grey, im_grey, im_grey))\n",
    "print(v_ims)"
   ]
  },
  {
   "cell_type": "code",
   "execution_count": 35,
   "id": "c0cc3753",
   "metadata": {},
   "outputs": [
    {
     "ename": "ValueError",
     "evalue": "all the input arrays must have same number of dimensions, but the array at index 0 has 2 dimension(s) and the array at index 1 has 3 dimension(s)",
     "output_type": "error",
     "traceback": [
      "\u001b[1;31m---------------------------------------------------------------------------\u001b[0m",
      "\u001b[1;31mValueError\u001b[0m                                Traceback (most recent call last)",
      "\u001b[1;32m<ipython-input-35-cb9ce47a2d07>\u001b[0m in \u001b[0;36m<module>\u001b[1;34m\u001b[0m\n\u001b[0;32m      1\u001b[0m \u001b[1;31m# Error is thrown if you try to concatenate a set of lists with different dimensions\u001b[0m\u001b[1;33m\u001b[0m\u001b[1;33m\u001b[0m\u001b[1;33m\u001b[0m\u001b[0m\n\u001b[1;32m----> 2\u001b[1;33m \u001b[0mnumpy\u001b[0m\u001b[1;33m.\u001b[0m\u001b[0mvstack\u001b[0m\u001b[1;33m(\u001b[0m\u001b[1;33m(\u001b[0m\u001b[0mim_grey\u001b[0m\u001b[1;33m,\u001b[0m \u001b[0mim_grb\u001b[0m\u001b[1;33m)\u001b[0m\u001b[1;33m)\u001b[0m\u001b[1;33m\u001b[0m\u001b[1;33m\u001b[0m\u001b[0m\n\u001b[0m",
      "\u001b[1;32m<__array_function__ internals>\u001b[0m in \u001b[0;36mvstack\u001b[1;34m(*args, **kwargs)\u001b[0m\n",
      "\u001b[1;32mE:\\Projects\\Samples\\Python\\Udemy\\The Python Mega Course Build 10 Real World Applications\\Section 16 Numerical and Scientific Computing with Python and Numpy\\venv.section-16\\lib\\site-packages\\numpy\\core\\shape_base.py\u001b[0m in \u001b[0;36mvstack\u001b[1;34m(tup)\u001b[0m\n\u001b[0;32m    281\u001b[0m     \u001b[1;32mif\u001b[0m \u001b[1;32mnot\u001b[0m \u001b[0misinstance\u001b[0m\u001b[1;33m(\u001b[0m\u001b[0marrs\u001b[0m\u001b[1;33m,\u001b[0m \u001b[0mlist\u001b[0m\u001b[1;33m)\u001b[0m\u001b[1;33m:\u001b[0m\u001b[1;33m\u001b[0m\u001b[1;33m\u001b[0m\u001b[0m\n\u001b[0;32m    282\u001b[0m         \u001b[0marrs\u001b[0m \u001b[1;33m=\u001b[0m \u001b[1;33m[\u001b[0m\u001b[0marrs\u001b[0m\u001b[1;33m]\u001b[0m\u001b[1;33m\u001b[0m\u001b[1;33m\u001b[0m\u001b[0m\n\u001b[1;32m--> 283\u001b[1;33m     \u001b[1;32mreturn\u001b[0m \u001b[0m_nx\u001b[0m\u001b[1;33m.\u001b[0m\u001b[0mconcatenate\u001b[0m\u001b[1;33m(\u001b[0m\u001b[0marrs\u001b[0m\u001b[1;33m,\u001b[0m \u001b[1;36m0\u001b[0m\u001b[1;33m)\u001b[0m\u001b[1;33m\u001b[0m\u001b[1;33m\u001b[0m\u001b[0m\n\u001b[0m\u001b[0;32m    284\u001b[0m \u001b[1;33m\u001b[0m\u001b[0m\n\u001b[0;32m    285\u001b[0m \u001b[1;33m\u001b[0m\u001b[0m\n",
      "\u001b[1;32m<__array_function__ internals>\u001b[0m in \u001b[0;36mconcatenate\u001b[1;34m(*args, **kwargs)\u001b[0m\n",
      "\u001b[1;31mValueError\u001b[0m: all the input arrays must have same number of dimensions, but the array at index 0 has 2 dimension(s) and the array at index 1 has 3 dimension(s)"
     ]
    }
   ],
   "source": [
    "# Error is thrown if you try to concatenate a set of lists with different dimensions\n",
    "numpy.vstack((im_grey, im_grb))"
   ]
  },
  {
   "cell_type": "code",
   "execution_count": 38,
   "id": "a31b0b74",
   "metadata": {},
   "outputs": [
    {
     "data": {
      "text/plain": [
       "[array([[187, 158, 104, 121, 143],\n",
       "        [198, 125, 255, 255, 147],\n",
       "        [209, 134, 255,  97, 182]], dtype=uint8),\n",
       " array([[187, 158, 104, 121, 143],\n",
       "        [198, 125, 255, 255, 147],\n",
       "        [209, 134, 255,  97, 182]], dtype=uint8),\n",
       " array([[187, 158, 104, 121, 143],\n",
       "        [198, 125, 255, 255, 147],\n",
       "        [209, 134, 255,  97, 182]], dtype=uint8)]"
      ]
     },
     "execution_count": 38,
     "metadata": {},
     "output_type": "execute_result"
    }
   ],
   "source": [
    "# Split our 9 x 5 list into 3 sets of 3 x 5 smaller lists\n",
    "split=numpy.split(v_ims, 3)\n",
    "split"
   ]
  },
  {
   "cell_type": "code",
   "execution_count": 39,
   "id": "54d401f5",
   "metadata": {},
   "outputs": [
    {
     "data": {
      "text/plain": [
       "list"
      ]
     },
     "execution_count": 39,
     "metadata": {},
     "output_type": "execute_result"
    }
   ],
   "source": [
    "type(split)"
   ]
  },
  {
   "cell_type": "code",
   "execution_count": 40,
   "id": "fc23ed66",
   "metadata": {},
   "outputs": [
    {
     "data": {
      "text/plain": [
       "array([[187, 158, 104, 121, 143],\n",
       "       [198, 125, 255, 255, 147],\n",
       "       [209, 134, 255,  97, 182]], dtype=uint8)"
      ]
     },
     "execution_count": 40,
     "metadata": {},
     "output_type": "execute_result"
    }
   ],
   "source": [
    "split[0]"
   ]
  },
  {
   "cell_type": "code",
   "execution_count": null,
   "id": "38be3120",
   "metadata": {},
   "outputs": [],
   "source": []
  }
 ],
 "metadata": {
  "kernelspec": {
   "display_name": "venv.section-16",
   "language": "python",
   "name": "venv.section-16"
  },
  "language_info": {
   "codemirror_mode": {
    "name": "ipython",
    "version": 3
   },
   "file_extension": ".py",
   "mimetype": "text/x-python",
   "name": "python",
   "nbconvert_exporter": "python",
   "pygments_lexer": "ipython3",
   "version": "3.9.1"
  }
 },
 "nbformat": 4,
 "nbformat_minor": 5
}
